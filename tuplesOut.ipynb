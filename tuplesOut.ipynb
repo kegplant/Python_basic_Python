{
 "cells": [
  {
   "cell_type": "code",
   "execution_count": 3,
   "metadata": {
    "collapsed": false
   },
   "outputs": [
    {
     "data": {
      "text/plain": [
       "[('Speros', '(555) 555-5555'),\n",
       " ('Michael', '(999) 999-9999'),\n",
       " ('Jay', '(777) 777-7777')]"
      ]
     },
     "execution_count": 3,
     "metadata": {},
     "output_type": "execute_result"
    }
   ],
   "source": [
    "my_dict = {\n",
    "  \"Speros\": \"(555) 555-5555\",\n",
    "  \"Michael\": \"(999) 999-9999\",\n",
    "  \"Jay\": \"(777) 777-7777\"\n",
    "}\n",
    "def tuplesOut(dic):\n",
    "    return dic.items()\n",
    "tuplesOut(my_dict)"
   ]
  },
  {
   "cell_type": "code",
   "execution_count": null,
   "metadata": {
    "collapsed": true
   },
   "outputs": [],
   "source": []
  }
 ],
 "metadata": {
  "kernelspec": {
   "display_name": "Python 2",
   "language": "python",
   "name": "python2"
  },
  "language_info": {
   "codemirror_mode": {
    "name": "ipython",
    "version": 2
   },
   "file_extension": ".py",
   "mimetype": "text/x-python",
   "name": "python",
   "nbconvert_exporter": "python",
   "pygments_lexer": "ipython2",
   "version": "2.7.11"
  }
 },
 "nbformat": 4,
 "nbformat_minor": 0
}
