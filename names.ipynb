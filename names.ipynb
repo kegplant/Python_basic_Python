{
 "cells": [
  {
   "cell_type": "code",
   "execution_count": 16,
   "metadata": {
    "collapsed": true
   },
   "outputs": [],
   "source": [
    "def names(students):\n",
    "    for ind,student in enumerate(students):\n",
    "        ans=''\n",
    "        for name in student.values():\n",
    "            ans+=(name+' ')\n",
    "        print \"{} - \".format(ind+1)+ ans + \"- {}\".format(len(ans)-2)\n"
   ]
  },
  {
   "cell_type": "code",
   "execution_count": 17,
   "metadata": {
    "collapsed": false
   },
   "outputs": [
    {
     "name": "stdout",
     "output_type": "stream",
     "text": [
      "1 - Michael Jordan - 13\n",
      "2 - John Rosales - 11\n",
      "3 - Mark Guillen - 11\n",
      "4 - KB Tonel - 7\n"
     ]
    }
   ],
   "source": [
    "students = [\n",
    "     {'first_name':  'Michael', 'last_name' : 'Jordan'},\n",
    "     {'first_name' : 'John', 'last_name' : 'Rosales'},\n",
    "     {'first_name' : 'Mark', 'last_name' : 'Guillen'},\n",
    "     {'first_name' : 'KB', 'last_name' : 'Tonel'}\n",
    "]\n",
    "names(students)"
   ]
  },
  {
   "cell_type": "code",
   "execution_count": 18,
   "metadata": {
    "collapsed": true
   },
   "outputs": [],
   "source": [
    "def userNames(users):\n",
    "    for user in users.keys():\n",
    "        print user\n",
    "        names(users[user])"
   ]
  },
  {
   "cell_type": "code",
   "execution_count": 19,
   "metadata": {
    "collapsed": false
   },
   "outputs": [
    {
     "name": "stdout",
     "output_type": "stream",
     "text": [
      "Students\n",
      "1 - Michael Jordan - 13\n",
      "2 - John Rosales - 11\n",
      "3 - Mark Guillen - 11\n",
      "4 - KB Tonel - 7\n",
      "Instructors\n",
      "1 - Michael Choi - 11\n",
      "2 - Martin Puryear - 13\n"
     ]
    }
   ],
   "source": [
    "users = {\n",
    " 'Students': [\n",
    "     {'first_name':  'Michael', 'last_name' : 'Jordan'},\n",
    "     {'first_name' : 'John', 'last_name' : 'Rosales'},\n",
    "     {'first_name' : 'Mark', 'last_name' : 'Guillen'},\n",
    "     {'first_name' : 'KB', 'last_name' : 'Tonel'}\n",
    "  ],\n",
    " 'Instructors': [\n",
    "     {'first_name' : 'Michael', 'last_name' : 'Choi'},\n",
    "     {'first_name' : 'Martin', 'last_name' : 'Puryear'}\n",
    "  ]\n",
    " }\n",
    "userNames(users)"
   ]
  },
  {
   "cell_type": "code",
   "execution_count": null,
   "metadata": {
    "collapsed": true
   },
   "outputs": [],
   "source": []
  },
  {
   "cell_type": "code",
   "execution_count": null,
   "metadata": {
    "collapsed": true
   },
   "outputs": [],
   "source": []
  }
 ],
 "metadata": {
  "kernelspec": {
   "display_name": "Python 2",
   "language": "python",
   "name": "python2"
  },
  "language_info": {
   "codemirror_mode": {
    "name": "ipython",
    "version": 2
   },
   "file_extension": ".py",
   "mimetype": "text/x-python",
   "name": "python",
   "nbconvert_exporter": "python",
   "pygments_lexer": "ipython2",
   "version": "2.7.11"
  }
 },
 "nbformat": 4,
 "nbformat_minor": 0
}
