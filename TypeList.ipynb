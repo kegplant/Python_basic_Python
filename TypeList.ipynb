{
 "cells": [
  {
   "cell_type": "code",
   "execution_count": 4,
   "metadata": {
    "collapsed": true
   },
   "outputs": [],
   "source": [
    "def typeList(arr):\n",
    "    sum=0\n",
    "    str=''\n",
    "    type1=False\n",
    "    type2=False\n",
    "    for i in range(len(arr)):\n",
    "        if type(arr[i])==type(3) or type(arr[i])==type(3.3):\n",
    "            type1=True\n",
    "            sum += arr[i]\n",
    "        elif type(arr[i])==type('abc'):\n",
    "            type2=True\n",
    "            str += arr[i]\n",
    "    print sum\n",
    "    print str\n",
    "    print \"of number type: \",type1\n",
    "    print \"of string type: \", type2"
   ]
  },
  {
   "cell_type": "code",
   "execution_count": 5,
   "metadata": {
    "collapsed": false
   },
   "outputs": [
    {
     "name": "stdout",
     "output_type": "stream",
     "text": [
      "117.98\n",
      "magical unicornshelloworld\n",
      "of number type:  True\n",
      "of string type:  True\n"
     ]
    }
   ],
   "source": [
    "x=['magical unicorns',19,'hello',98.98,'world']\n",
    "typeList(x)"
   ]
  },
  {
   "cell_type": "code",
   "execution_count": null,
   "metadata": {
    "collapsed": true
   },
   "outputs": [],
   "source": []
  }
 ],
 "metadata": {
  "kernelspec": {
   "display_name": "Python 2",
   "language": "python",
   "name": "python2"
  },
  "language_info": {
   "codemirror_mode": {
    "name": "ipython",
    "version": 2
   },
   "file_extension": ".py",
   "mimetype": "text/x-python",
   "name": "python",
   "nbconvert_exporter": "python",
   "pygments_lexer": "ipython2",
   "version": "2.7.11"
  }
 },
 "nbformat": 4,
 "nbformat_minor": 0
}
