{
 "cells": [
  {
   "cell_type": "code",
   "execution_count": 9,
   "metadata": {
    "collapsed": false
   },
   "outputs": [],
   "source": [
    "def filterByType(unknown):\n",
    "    if type(unknown)==type(3):\n",
    "        if unknown >= 100:\n",
    "            print \"that's a big number!\"\n",
    "        else:\n",
    "            print \"that's a small number!\"\n",
    "    if type(unknown)==type('abc'):\n",
    "        if len(unknown)>=50:\n",
    "            print \"long sequence\"\n",
    "    if type(unknown)==type([2,3]):\n",
    "        if len(unknown)>=10:\n",
    "            print \"long list\"\n",
    "    \n",
    "    "
   ]
  },
  {
   "cell_type": "code",
   "execution_count": 2,
   "metadata": {
    "collapsed": false
   },
   "outputs": [
    {
     "name": "stdout",
     "output_type": "stream",
     "text": [
      "True\n"
     ]
    }
   ],
   "source": [
    "a=67\n",
    "print type(a)==type(3)"
   ]
  },
  {
   "cell_type": "code",
   "execution_count": 14,
   "metadata": {
    "collapsed": false
   },
   "outputs": [
    {
     "name": "stdout",
     "output_type": "stream",
     "text": [
      "long sequence\n"
     ]
    }
   ],
   "source": [
    "filterByType('asdfasdfadsfasdfasdfasdfadfadsfasdfasdfasdfasdfasdfasdfadfasfasdfasdf')"
   ]
  },
  {
   "cell_type": "code",
   "execution_count": 15,
   "metadata": {
    "collapsed": false
   },
   "outputs": [
    {
     "name": "stdout",
     "output_type": "stream",
     "text": [
      "long list\n"
     ]
    }
   ],
   "source": [
    "filterByType([1,2,3,4,5,6,7,7,8,8,8,8,8])"
   ]
  },
  {
   "cell_type": "code",
   "execution_count": null,
   "metadata": {
    "collapsed": true
   },
   "outputs": [],
   "source": []
  }
 ],
 "metadata": {
  "kernelspec": {
   "display_name": "Python 2",
   "language": "python",
   "name": "python2"
  },
  "language_info": {
   "codemirror_mode": {
    "name": "ipython",
    "version": 2
   },
   "file_extension": ".py",
   "mimetype": "text/x-python",
   "name": "python",
   "nbconvert_exporter": "python",
   "pygments_lexer": "ipython2",
   "version": "2.7.11"
  }
 },
 "nbformat": 4,
 "nbformat_minor": 0
}
