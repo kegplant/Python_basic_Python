{
 "cells": [
  {
   "cell_type": "code",
   "execution_count": 6,
   "metadata": {
    "collapsed": false
   },
   "outputs": [
    {
     "name": "stdout",
     "output_type": "stream",
     "text": [
      "18\n"
     ]
    }
   ],
   "source": [
    "#Find and Replace\n",
    "words=\"It's thanksgiving day. It's mybirthday, too!\"\n",
    "print words.find(\"day\")"
   ]
  },
  {
   "cell_type": "code",
   "execution_count": 7,
   "metadata": {
    "collapsed": false
   },
   "outputs": [
    {
     "name": "stdout",
     "output_type": "stream",
     "text": [
      "It's thanksgiving month. It's mybirthday, too!\n"
     ]
    }
   ],
   "source": [
    "newStr=words[:18]+'month'+words[21:]\n",
    "print newStr"
   ]
  },
  {
   "cell_type": "code",
   "execution_count": 14,
   "metadata": {
    "collapsed": false
   },
   "outputs": [
    {
     "name": "stdout",
     "output_type": "stream",
     "text": [
      "-2\n",
      "98\n"
     ]
    }
   ],
   "source": [
    "#Min and Max\n",
    "x=[2,54,-2,7,12,98]\n",
    "print min(x)\n",
    "print max(x)\n"
   ]
  },
  {
   "cell_type": "code",
   "execution_count": 15,
   "metadata": {
    "collapsed": false
   },
   "outputs": [
    {
     "name": "stdout",
     "output_type": "stream",
     "text": [
      "hello world\n"
     ]
    }
   ],
   "source": [
    "#First and Last\n",
    "x=[\"hello\",2,54,-2,7,12,98,\"world\"]\n",
    "print x[0],x[len(x)-1]"
   ]
  },
  {
   "cell_type": "code",
   "execution_count": 17,
   "metadata": {
    "collapsed": false
   },
   "outputs": [
    {
     "name": "stdout",
     "output_type": "stream",
     "text": [
      "['hello', 'world']\n"
     ]
    }
   ],
   "source": [
    "y=[x[0],x[len(x)-1]]\n",
    "print y"
   ]
  },
  {
   "cell_type": "code",
   "execution_count": 20,
   "metadata": {
    "collapsed": false
   },
   "outputs": [
    {
     "name": "stdout",
     "output_type": "stream",
     "text": [
      "[-3, -2, 2, 6, 7, 10, 12, 19, 32, 54, 98]\n"
     ]
    }
   ],
   "source": [
    "#New list\n",
    "x=[19,2,54,-2,7,12,98,32,10,-3,6]\n",
    "y=sorted(x)\n",
    "print y"
   ]
  },
  {
   "cell_type": "code",
   "execution_count": 55,
   "metadata": {
    "collapsed": false
   },
   "outputs": [
    {
     "name": "stdout",
     "output_type": "stream",
     "text": [
      "[-3, -2, 2, 6, 7] [10, 12, 19, 32, 54, 98]\n"
     ]
    }
   ],
   "source": [
    "first=y[:len(x)/2]\n",
    "second=y[len(x)/2:]\n",
    "print first,second"
   ]
  },
  {
   "cell_type": "code",
   "execution_count": 47,
   "metadata": {
    "collapsed": false
   },
   "outputs": [
    {
     "name": "stdout",
     "output_type": "stream",
     "text": [
      "[10, 12, 19, 32, 54, 98]\n",
      "[10, 12, 19, 32, 54, 98, 3]\n"
     ]
    }
   ],
   "source": [
    "print second\n",
    "second.append(3)\n",
    "print second"
   ]
  },
  {
   "cell_type": "code",
   "execution_count": 56,
   "metadata": {
    "collapsed": false
   },
   "outputs": [
    {
     "name": "stdout",
     "output_type": "stream",
     "text": [
      "[10, 12, 19, 32, 54, 98, 3]\n",
      "6\n",
      "3 98\n",
      "5\n",
      "98 54\n",
      "4\n",
      "54 32\n",
      "3\n",
      "32 19\n",
      "2\n",
      "19 12\n",
      "1\n",
      "12 10\n",
      "0\n",
      "10 98\n",
      "[[-3, -2, 2, 6, 7], 10, 12, 19, 32, 54, 98]\n"
     ]
    }
   ],
   "source": [
    "second.append(3)\n",
    "print second\n",
    "for i in range(len(second))[::-1]:\n",
    "    print i\n",
    "    print second[i],second[i-1]\n",
    "    second[i]=second[i-1]\n",
    "second[0]=first\n",
    "print second"
   ]
  },
  {
   "cell_type": "code",
   "execution_count": null,
   "metadata": {
    "collapsed": true
   },
   "outputs": [],
   "source": []
  }
 ],
 "metadata": {
  "kernelspec": {
   "display_name": "Python 2",
   "language": "python",
   "name": "python2"
  },
  "language_info": {
   "codemirror_mode": {
    "name": "ipython",
    "version": 2
   },
   "file_extension": ".py",
   "mimetype": "text/x-python",
   "name": "python",
   "nbconvert_exporter": "python",
   "pygments_lexer": "ipython2",
   "version": "2.7.11"
  }
 },
 "nbformat": 4,
 "nbformat_minor": 0
}
