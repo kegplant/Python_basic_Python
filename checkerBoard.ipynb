{
 "cells": [
  {
   "cell_type": "code",
   "execution_count": 36,
   "metadata": {
    "collapsed": true
   },
   "outputs": [],
   "source": [
    "def checkerBoard():\n",
    "    row=8\n",
    "    col=8\n",
    "    board=''\n",
    "    i=0\n",
    "    while i<row*col:\n",
    "        #print i\n",
    "        board+=\"*\"\n",
    "        i+=1\n",
    "        if i==row*col:\n",
    "            break\n",
    "        if i%col==0:           \n",
    "            board += '\\n'\n",
    "            board += '*'\n",
    "            i += 1\n",
    "        board+=\" \"\n",
    "        i+=1\n",
    "        if i==row*col:\n",
    "            break\n",
    "        if (i)%col==0:\n",
    "            board += '\\n'\n",
    "            board += ' '\n",
    "            i+=1\n",
    "    print board"
   ]
  },
  {
   "cell_type": "code",
   "execution_count": 37,
   "metadata": {
    "collapsed": false
   },
   "outputs": [
    {
     "name": "stdout",
     "output_type": "stream",
     "text": [
      "* * * * \n",
      " * * * *\n",
      "* * * * \n",
      " * * * *\n",
      "* * * * \n",
      " * * * *\n",
      "* * * * \n",
      " * * * *\n"
     ]
    }
   ],
   "source": [
    "checkerBoard()"
   ]
  },
  {
   "cell_type": "code",
   "execution_count": null,
   "metadata": {
    "collapsed": true
   },
   "outputs": [],
   "source": []
  }
 ],
 "metadata": {
  "kernelspec": {
   "display_name": "Python 2",
   "language": "python",
   "name": "python2"
  },
  "language_info": {
   "codemirror_mode": {
    "name": "ipython",
    "version": 2
   },
   "file_extension": ".py",
   "mimetype": "text/x-python",
   "name": "python",
   "nbconvert_exporter": "python",
   "pygments_lexer": "ipython2",
   "version": "2.7.11"
  }
 },
 "nbformat": 4,
 "nbformat_minor": 0
}
