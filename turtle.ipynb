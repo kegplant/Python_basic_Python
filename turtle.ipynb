{
 "cells": [
  {
   "cell_type": "code",
   "execution_count": 2,
   "metadata": {
    "collapsed": false
   },
   "outputs": [
    {
     "name": "stdout",
     "output_type": "stream",
     "text": [
      "x 0\n",
      "y 1\n",
      "y 2\n",
      "y 3\n",
      "y 4\n",
      "x 1\n",
      "y 1\n",
      "y 2\n",
      "y 3\n",
      "y 4\n",
      "x 2\n",
      "y 1\n",
      "y 2\n",
      "y 3\n",
      "y 4\n",
      "x 3\n",
      "y 1\n",
      "y 2\n",
      "y 3\n",
      "y 4\n",
      "x 4\n",
      "y 1\n",
      "y 2\n",
      "y 3\n",
      "y 4\n",
      "x 5\n",
      "y 1\n",
      "y 2\n",
      "y 3\n",
      "y 4\n"
     ]
    }
   ],
   "source": [
    "import turtle\n",
    "DIST=100\n",
    "for x in range(0,6):\n",
    "    print \"x\", x\n",
    "    for y in range(1,5):\n",
    "        print \"y\", y\n",
    "        turtle.right(90)\n",
    "        turtle.forward(DIST)\n",
    "    DIST+=20"
   ]
  },
  {
   "cell_type": "code",
   "execution_count": null,
   "metadata": {
    "collapsed": true
   },
   "outputs": [],
   "source": []
  }
 ],
 "metadata": {
  "kernelspec": {
   "display_name": "Python 2",
   "language": "python",
   "name": "python2"
  },
  "language_info": {
   "codemirror_mode": {
    "name": "ipython",
    "version": 2
   },
   "file_extension": ".py",
   "mimetype": "text/x-python",
   "name": "python",
   "nbconvert_exporter": "python",
   "pygments_lexer": "ipython2",
   "version": "2.7.11"
  }
 },
 "nbformat": 4,
 "nbformat_minor": 0
}
