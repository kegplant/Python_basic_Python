{
 "cells": [
  {
   "cell_type": "code",
   "execution_count": 10,
   "metadata": {
    "collapsed": true
   },
   "outputs": [],
   "source": [
    "def list2Dict(lst1,lst2):#check if list can be parament\n",
    "    return dict(zip(lst2,lst2))"
   ]
  },
  {
   "cell_type": "code",
   "execution_count": 11,
   "metadata": {
    "collapsed": true
   },
   "outputs": [],
   "source": [
    "def list2Dict(lst1,lst2):#check if list can be parament\n",
    "    if len(lst1)<len(lst2):\n",
    "        temp=lst2\n",
    "        lst2=lst1\n",
    "        lst1=temp\n",
    "    newDict = dict(zip(lst1,lst2))\n",
    "    for i in range(len(lst2),len(lst1)):\n",
    "        newDict.setdefault(lst1[i])\n",
    "    return newDict\n",
    "    "
   ]
  },
  {
   "cell_type": "code",
   "execution_count": 12,
   "metadata": {
    "collapsed": false
   },
   "outputs": [
    {
     "data": {
      "text/plain": [
       "{'cat': 'Eli',\n",
       " 'dolphins': None,\n",
       " 'giraffe': 'Brendan',\n",
       " 'horse': 'Anna',\n",
       " 'llamas': None,\n",
       " 'spider': 'Pariece',\n",
       " 'ticks': 'Amy'}"
      ]
     },
     "execution_count": 12,
     "metadata": {},
     "output_type": "execute_result"
    }
   ],
   "source": [
    "name = [\"Anna\", \"Eli\", \"Pariece\", \"Brendan\", \"Amy\"]\n",
    "favorite_animal = [\"horse\", \"cat\", \"spider\", \"giraffe\", \"ticks\", \"dolphins\", \"llamas\"]\n",
    "list2Dict(name,favorite_animal)"
   ]
  },
  {
   "cell_type": "code",
   "execution_count": null,
   "metadata": {
    "collapsed": true
   },
   "outputs": [],
   "source": []
  }
 ],
 "metadata": {
  "kernelspec": {
   "display_name": "Python 2",
   "language": "python",
   "name": "python2"
  },
  "language_info": {
   "codemirror_mode": {
    "name": "ipython",
    "version": 2
   },
   "file_extension": ".py",
   "mimetype": "text/x-python",
   "name": "python",
   "nbconvert_exporter": "python",
   "pygments_lexer": "ipython2",
   "version": "2.7.11"
  }
 },
 "nbformat": 4,
 "nbformat_minor": 0
}
